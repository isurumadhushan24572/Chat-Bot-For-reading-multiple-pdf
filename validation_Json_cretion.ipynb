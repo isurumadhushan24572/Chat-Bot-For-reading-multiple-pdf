{
 "cells": [
  {
   "cell_type": "code",
   "execution_count": 54,
   "id": "f53111cc",
   "metadata": {},
   "outputs": [],
   "source": [
    "import json\n",
    "import torch\n",
    "import re\n",
    "from PyPDF2 import PdfReader\n",
    "from langchain_community.embeddings import HuggingFaceEmbeddings\n",
    "from langchain_community.vectorstores import FAISS\n",
    "from langchain.chat_models import ChatOpenAI\n",
    "from langchain.text_splitter import RecursiveCharacterTextSplitter\n",
    "\n",
    "# ------------------ 1 Extract Text from PDFs ------------------\n",
    "def get_pdf_text(pdf_paths):\n",
    "    \"\"\"\n",
    "    Extract all text from a list of PDF files and return as a single string.\n",
    "    \"\"\"\n",
    "    text = \"\"\n",
    "    for pdf in pdf_paths:\n",
    "        reader = PdfReader(pdf)\n",
    "        for page in reader.pages:\n",
    "            page_text = page.extract_text() or \"\"\n",
    "            page_text = re.sub(r\"[^\\S\\r\\n]+\", \" \", page_text)  # replace spaces/tabs but keep \\n\n",
    "            text += page_text + \" \"\n",
    "    return text.strip()\n",
    "\n",
    "# Use raw string for Windows path\n",
    "pdf_files = [r\"NSBM_Details.pdf\"]  \n",
    "raw_text = get_pdf_text(pdf_files)"
   ]
  },
  {
   "cell_type": "code",
   "execution_count": 55,
   "id": "0928b550",
   "metadata": {},
   "outputs": [
    {
     "name": "stdout",
     "output_type": "stream",
     "text": [
      "National School of Business Management Green University Town (NSBM Green \n",
      "University) \n",
      "The NSBM Academic Leadership Hierarchy is led by the Executive Management, which \n",
      "includes the Vice Chancellor, Prof. E. A. Weerasinghe, the Deputy Vice Chancellor, Prof. \n",
      "Chaminda Rathnayake, and the Head of Academic Development and Quality Assurance, Prof. \n",
      "Baratha Dodankotuwa. The Deans of the faculties are Ms. Thilini De Silva for the Faculty of \n",
      "Business, Dr. Rasika Ranaweera for the Faculty of Computing,\n"
     ]
    }
   ],
   "source": [
    "print(raw_text[:500])  # Print the first 500 characters of the extracted text"
   ]
  },
  {
   "cell_type": "code",
   "execution_count": 56,
   "id": "87b53eb1",
   "metadata": {},
   "outputs": [
    {
     "name": "stdout",
     "output_type": "stream",
     "text": [
      "Total chunks: 20\n",
      "National School of Business Management Green University Town (NSBM Green \n",
      "University) \n",
      "The NSBM Academic Leadership Hierarchy is led by the Executive Management, which \n",
      "includes the Vice Chancellor, Prof. E. A. Weerasinghe, the Deputy Vice Chancellor, Prof. \n",
      "Chaminda Rathnayake, and the Head of Academic Development and Quality Assurance, Prof. \n",
      "Baratha Dodankotuwa. The Deans of the faculties are Ms. Thilini De Silva for the Faculty of \n",
      "Business, Dr. Rasika Ranaweera for the Faculty of Computing, Dr. Chandana Perera for the \n",
      "Faculty of Engineering, Dr. Nuwanthi Katuwavila for the Faculty of Science , and Dr. Piyumi \n",
      "Udeshinee for the Faculty of Postgraduate Studies and Professional Advancement. \n",
      " \n",
      "Faculties and Departments \n",
      "NSBM comprises several key faculties, each housing specialized departments and programmes. \n",
      "The Faculty of Business is structured around the Department of Management, the Department of \n",
      "Accounting and Finance, and the Department of Legal Studies, offering a wide range of degrees \n",
      "in management, accounting, finance, economics, marketing, tourism, hospitality, multimedia, \n",
      "law, and related fields. The Faculty of Computing provides programmes in Data Science, \n",
      "Computer Networks, Computer Science, Software Engineeri ng, and Management Information \n",
      "Systems, along with a Cyber Security specialization in collaboration with international partners. \n",
      "The Faculty of Engineering delivers degrees in Quantity Surveying, Civil and Structural \n",
      "Engineering, Electrical, Electronics an d Communication Engineering, Mechanical and\n"
     ]
    }
   ],
   "source": [
    "# ------------------ 2 Split Text and Create FAISS ------------------\n",
    "text_splitter = RecursiveCharacterTextSplitter(\n",
    "    separators=[\"\\n\\n\", \"\\n\", \".\", \" \"],\n",
    "    chunk_size=1600,\n",
    "    chunk_overlap=250,\n",
    "    length_function=len\n",
    ")\n",
    "text_chunks = text_splitter.split_text(raw_text)\n",
    "\n",
    "print(f\"Total chunks: {len(text_chunks)}\")\n",
    "print(text_chunks[0][:])  # preview first chunk"
   ]
  },
  {
   "cell_type": "code",
   "execution_count": 57,
   "id": "4b790cff",
   "metadata": {},
   "outputs": [],
   "source": [
    "device = torch.device(\"cuda\" if torch.cuda.is_available() else \"cpu\")\n",
    "embeddings = HuggingFaceEmbeddings(\n",
    "    model_name=\"sentence-transformers/all-MiniLM-L6-v2\",\n",
    "    model_kwargs={\"device\": device}\n",
    ")\n",
    "vector_store = FAISS.from_texts(text_chunks, embeddings)\n",
    "\n",
    "# Optionally save for later\n",
    "vector_store.save_local(\"faiss_index\")"
   ]
  },
  {
   "cell_type": "code",
   "execution_count": 58,
   "id": "2c2c8dc3",
   "metadata": {},
   "outputs": [],
   "source": [
    "# ------------------ 3 Initialize LLM ------------------\n",
    "llm = ChatOpenAI(model=\"gpt-4o-mini\", temperature=0)\n",
    "\n",
    "# ------------------ 4 Generate Candidate Questions ------------------\n",
    "question_prompt = f\"\"\"\n",
    "Generate 20 concise factual questions based on the following text. \n",
    "Questions should be suitable for a PDF Q&A evaluation dataset.\n",
    "\n",
    "Text:\n",
    "{raw_text[:50000]}  # Limit to first 50000 chars\n",
    "\"\"\"\n",
    "questions_response = llm.invoke(question_prompt)\n",
    "questions_text = questions_response.content.strip()\n",
    "\n",
    "# Split into list and remove numbering/symbols\n",
    "questions = [\n",
    "    re.sub(r\"^[0-9\\.\\)\\-]+\\s*\", \"\", q).strip() \n",
    "    for q in questions_text.split(\"\\n\") if q.strip()\n",
    "]"
   ]
  },
  {
   "cell_type": "code",
   "execution_count": 59,
   "id": "52a7571a",
   "metadata": {},
   "outputs": [
    {
     "name": "stdout",
     "output_type": "stream",
     "text": [
      "1. Who is the Vice Chancellor of NSBM Green University?\n",
      "2. What is the role of Prof. Baratha Dodankotuwa at NSBM?\n",
      "3. Which faculty is Ms. Thilini De Silva the Dean of?\n",
      "4. Name one programme offered by the Faculty of Computing.\n",
      "5. What degree does the Department of Management offer in collaboration with Plymouth University?\n",
      "6. Which department offers the Bachelor of Laws (Honours)?\n",
      "7. What is the focus of the Faculty of Science at NSBM?\n",
      "8. How many years is the BSc (Hons) in Data Science programme?\n",
      "9. What is a key component of the BSc (Hons) in Data Science programme?\n",
      "10. What are the entry qualifications for the BSc (Hons) in Computer Science?\n",
      "11. What is the course fee per semester for the BSc (Hons) in Computer Science?\n",
      "12. Which degree combines general business knowledge with specialized training in business analytics?\n",
      "13. What is the total course fee for the BM (Hons) in Business Analytics over four years?\n",
      "14. What type of training does the BBM (Hons) in Tourism, Hospitality and Events include?\n",
      "15. What is the focus of the BSc in Business Management (Industrial Management) (Special)?\n",
      "16. What is the entry requirement for the BBM (Hons) in Tourism, Hospitality and Events?\n",
      "17. Which faculty offers a degree in Quantity Surveying?\n",
      "18. What is the course fee for the BSc (Hons) in Data Science?\n",
      "19. What type of project is included in the final year of the BSc (Hons) in Computer Science?\n",
      "20. Name one career opportunity for graduates of the BSc (Hons) in Data Science.\n"
     ]
    }
   ],
   "source": [
    "# Generated questions\n",
    "for i, q in enumerate(questions):\n",
    "    print(f\"{i+1}. {q}\")"
   ]
  },
  {
   "cell_type": "code",
   "execution_count": null,
   "id": "623a3582",
   "metadata": {},
   "outputs": [],
   "source": [
    "# ------------------ 5 Generate Reference Answers ------------------\n",
    "eval_data = []\n",
    "for question in questions:\n",
    "    # Retrieve relevant context\n",
    "    docs = vector_store.similarity_search(question, k=3)\n",
    "    context_text = \" \".join([doc.page_content for doc in docs])\n",
    "    context_text = re.sub(r\"\\s+\", \" \", context_text).strip()  # Clean context\n",
    "    \n",
    "\n",
    "    # Generate answer\n",
    "    answer_prompt = f\"\"\"\n",
    "    Based on the following context, answer the question concisely.\n",
    "    Provide only the answer.\n",
    "\n",
    "    Context: {context_text}\n",
    "    Question: {question}\n",
    "    \"\"\"\n",
    "    response = llm.invoke(answer_prompt)\n",
    "    gold_answer = response.content.strip()\n",
    "    # Clean answer text\n",
    "    gold_answer = re.sub(r\"\\s+\", \" \", gold_answer)\n",
    "    gold_answer = re.sub(r\"[^\\w\\s.,'-]\", \"\", gold_answer)\n",
    "\n",
    "    eval_data.append({\n",
    "        \"question\": question,\n",
    "        \"answer\": gold_answer,\n",
    "        \"context\": context_text\n",
    "    })\n"
   ]
  },
  {
   "cell_type": "code",
   "execution_count": 61,
   "id": "ff6a0bff",
   "metadata": {},
   "outputs": [
    {
     "name": "stdout",
     "output_type": "stream",
     "text": [
      "University. Locally offered honours programmes inc lude the BSc Engineering Honours in \n",
      "Mechatronic Engineering, BSc Engineering Honours in Computer System Engineering, and BSc \n",
      "Engineering Honours in Electrical and Electronic Engineering. The faculty also offers design -\n",
      "focused degrees such as the Bachelor o f Interior Design and the BA (Hons) in Interior Design. \n",
      "The Faculty of Science provides programmes across biomedical, pharmaceutical, health, and \n",
      "psychology fields. Its offerings include the BSc (Hons) in Biomedical Science, the BSc (Hons) in \n",
      "Pharmaceutical Science, and the BSc (Hons) in Nutrition and Health, a s well as a Foundation \n",
      "Programme for Bachelor’s Degree. In collaboration with Plymouth University, UK, the faculty \n",
      "delivers the BSc (Hons) Psychology, the BSc (Hons) Nursing, the BSc (Hons) Biomedical \n",
      "Science, and the BSc (Hons) Nursing Top -Up Degree. \n",
      " \n",
      "About BSC (HONOURS) IN DATA SCIENCE: \n",
      "The BSc (Hons) in Data Science, approved by the Ministry of Higher Education and offered by \n",
      "NSBM, is a UGC -approved four -year honours degree that places a strong emphasis on Data \n",
      "Science. The programme provides a diverse choice of elective modules in the f inal year to cater \n",
      "to individual preferences and specializations. It also includes a mandatory industry placement \n",
      "and a supervised research project, creating the foundation for a rewarding and lucrative career in \n",
      "Data S cience. \n",
      "The aims of the programme are to develop proficiency in the analysis of complex problems and\n",
      "and a supervised research project, creating the foundation for a rewarding and lucrative career in \n",
      "Data S cience. \n",
      "The aims of the programme are to develop proficiency in the analysis of complex problems and \n",
      "the ability to synthesize software solutions using the latest concepts for organizations and \n",
      "individuals. It encourages lifelong learning aptitude so that students can acquire new knowledge  required for assignments associated with novel concepts. Furthermore, the programme instills \n",
      "respect for intellectual works of others, adherence to industry norms and ethics as stipulated by \n",
      "professional bodies, and ensures that graduates satisfy the acade mic criteria required for \n",
      "membership in professional institutions. \n",
      "The programme contents are organized across four academic years. In Year 1, students are \n",
      "introduced to fundamental computing and programming subjects including Introduction to \n",
      "Computer Science, Mathematics for Computing, Programming in Python, Database Man agement \n",
      "Systems, Professional Development, Object Oriented Programming with Java, Algorithms and \n",
      "Data Structures, Fundamentals of Computer Architecture, Data Communication and Networks, \n",
      "and Web Based Application Development. Year 2 advances into specialize d areas such as \n",
      "Introduction to Data Science, Human Computer Interaction, Data Programming with R, Statistics \n",
      "for Data Science, Introduction to Software Engineering, Development of Enterprise Applications \n",
      "I, System Fundamentals, Algorithms and Complexity, Data Science in Python, and Ethics in\n",
      "for Data Science, Introduction to Software Engineering, Development of Enterprise Applications \n",
      "I, System Fundamentals, Algorithms and Complexity, Data Science in Python, and Ethics in \n",
      "Data Science. In Year 3, the focus shifts to applied data science, covering Web Mining, \n",
      "Advanced Statistics for Data Science, Data Warehousing and Data Mining, Data Visualization, \n",
      "Advanced Database Management Systems, Information Assurance and Security, Internship \n",
      "training, Cloud Computing, Machine Learning, Mobile Application Development, and Big Data \n",
      "Analytics. The final year, Year 4, includes advanced modules and a capstone project such as \n",
      "Natural Language Processing , Neural Networks, Big Data Programming, the DS Honours Award \n",
      "Project, Urban Computing, Artificial Intelligence, Data Science Trends and Applications, Deep \n",
      "Learning, Parallel and Distributed Computing, Internet of Things, and Development of \n",
      "Enterprise Appl ications II. \n",
      "The entry qualifications for the programme are flexible. Under Option 1, applicants must have at \n",
      "least three simple passes in the Physical Sciences or Engineering Technology stream in one \n",
      "sitting at the GCE A/L Examination conducted by the Department of Ex aminations of Sri Lanka \n",
      "or hold an equivalent qualification. Under Option 2, students may qualify with at least three \n",
      "simple passes in any stream at the GCE A/L Examination in one sitting, provided they also have \n",
      "a credit pass in Mathematics at the GCE O/L Examination or equivalent, along with the \n",
      "completion of a bridging programme approved by the specified authority. There are also\n"
     ]
    }
   ],
   "source": [
    "for doc in docs:\n",
    "    print(doc.page_content)"
   ]
  },
  {
   "cell_type": "code",
   "execution_count": 63,
   "id": "5aa123cc",
   "metadata": {},
   "outputs": [
    {
     "name": "stdout",
     "output_type": "stream",
     "text": [
      "Automated evaluation JSON created: auto_eval_data.json\n"
     ]
    }
   ],
   "source": [
    "# ------------------ 6 Save JSON ------------------\n",
    "with open(\"auto_eval_data.json\", \"w\", encoding=\"utf-8\") as f:\n",
    "    json.dump(eval_data, f, ensure_ascii=False, indent=4)\n",
    "\n",
    "print(\"Automated evaluation JSON created: auto_eval_data.json\")"
   ]
  }
 ],
 "metadata": {
  "kernelspec": {
   "display_name": "chabot-env",
   "language": "python",
   "name": "python3"
  },
  "language_info": {
   "codemirror_mode": {
    "name": "ipython",
    "version": 3
   },
   "file_extension": ".py",
   "mimetype": "text/x-python",
   "name": "python",
   "nbconvert_exporter": "python",
   "pygments_lexer": "ipython3",
   "version": "3.12.10"
  }
 },
 "nbformat": 4,
 "nbformat_minor": 5
}
